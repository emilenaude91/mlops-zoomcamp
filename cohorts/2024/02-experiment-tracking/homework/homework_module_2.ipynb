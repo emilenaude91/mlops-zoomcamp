{
 "cells": [
  {
   "cell_type": "code",
   "execution_count": 2,
   "metadata": {},
   "outputs": [
    {
     "name": "stdout",
     "output_type": "stream",
     "text": [
      "Python 3.11.9\n"
     ]
    }
   ],
   "source": [
    "!python -V"
   ]
  },
  {
   "cell_type": "markdown",
   "metadata": {},
   "source": [
    "### Import packages "
   ]
  },
  {
   "cell_type": "code",
   "execution_count": 3,
   "metadata": {},
   "outputs": [],
   "source": [
    "import pandas as pd\n",
    "\n",
    "# Set the float format to display numbers without scientific notation\n",
    "pd.options.display.float_format = '{:.2f}'.format\n",
    "# Package: pickle\n",
    "# Purpose: This package provides functionality for working with pickle files.\n",
    "# Pickle is a Python module used for serializing and deserializing Python objects.\n",
    "# It allows you to save and load Python objects to and from disk, preserving their state.\n",
    "\n",
    "import pickle\n",
    "# Package: seaborn\n",
    "# Purpose: Seaborn is a data visualization library based on Matplotlib.\n",
    "# It provides a high-level interface for creating informative and attractive statistical graphics.\n",
    "import seaborn as sns\n",
    "\n",
    "# Package: matplotlib.pyplot\n",
    "# Purpose: Matplotlib is a plotting library for creating static, animated, and interactive visualizations in Python. \n",
    "# pyplot is a collection of functions that provide a simple interface for creating plots and visualizations.\n",
    "import matplotlib.pyplot as plt\n",
    "# Package: DictVectorizer \n",
    "# Purpose: Convert a collection of dictionaries into a matrix representation\n",
    "from sklearn.feature_extraction import DictVectorizer  \n",
    "\n",
    "# Package: LinearRegression\n",
    "# Purpose: Implement linear regression models\n",
    "from sklearn.linear_model import LinearRegression  \n",
    "\n",
    "# Package: Lasso\n",
    "# Purpose: Implement Lasso regression models\n",
    "from sklearn.linear_model import Lasso  \n",
    "\n",
    "# Package: Ridge\n",
    "# Purpose: Implement Ridge regression models\n",
    "from sklearn.linear_model import Ridge  \n",
    "\n",
    "# Package: mean_squared_error\n",
    "# Purpose: Calculate the mean squared error between two arrays\n",
    "from sklearn.metrics import mean_squared_error  \n",
    "# Package: mlflow\n",
    "# Purpose: MLflow is an open-source platform for managing the end-to-end machine learning lifecycle.\n",
    "\n",
    "import mlflow\n",
    "# Package: pyspark\n",
    "# Purpose: PySpark is the Python API for Apache Spark. Apache Spark is a fast and general-purpose cluster computing system.\n",
    "\n",
    "import pyspark\n",
    "\n",
    "#Package: xgboost\n",
    "#Purpose: XGBoost is an optimized distributed gradient boosting library designed to be highly efficient, flexible and portable.\n",
    "\n",
    "import xgboost as xgb\n",
    "\n",
    "#Package: hyperopt\n",
    "#Purpose: Hyperopt is a Python library for serial and parallel optimization over awkward search spaces, which may include real-valued, discrete, and conditional dimensions.\n",
    "\n",
    "from hyperopt import fmin, tpe, hp, STATUS_OK, Trials\n",
    "from hyperopt import SparkTrials\n",
    "from hyperopt.pyll import scope"
   ]
  },
  {
   "cell_type": "markdown",
   "metadata": {},
   "source": [
    "### Preparation"
   ]
  },
  {
   "cell_type": "markdown",
   "metadata": {},
   "source": [
    "- CD into ~/mlops-zoomcamp/cohorts/2024/02-experiment-tracking/homework/\n",
    "- Create new notebbook \"homework_module_2\"\n",
    "- Create Data folder \n",
    "- CD into data folder\n",
    "- Download Jan, Feb, March 2023 Green Taxi data "
   ]
  },
  {
   "cell_type": "code",
   "execution_count": 1,
   "metadata": {},
   "outputs": [
    {
     "name": "stdout",
     "output_type": "stream",
     "text": [
      "--2024-05-25 14:25:19--  https://d37ci6vzurychx.cloudfront.net/trip-data/green_tripdata_2023-01.parquet\n",
      "Resolving d37ci6vzurychx.cloudfront.net (d37ci6vzurychx.cloudfront.net)... 3.164.247.148, 3.164.247.127, 3.164.247.101, ...\n",
      "Connecting to d37ci6vzurychx.cloudfront.net (d37ci6vzurychx.cloudfront.net)|3.164.247.148|:443... connected.\n",
      "HTTP request sent, awaiting response... 200 OK\n",
      "Length: 1427002 (1.4M) [binary/octet-stream]\n",
      "Saving to: ‘green_tripdata_2023-01.parquet’\n",
      "\n",
      "green_tripdata_2023 100%[===================>]   1.36M  --.-KB/s    in 0.1s    \n",
      "\n",
      "2024-05-25 14:25:19 (10.7 MB/s) - ‘green_tripdata_2023-01.parquet’ saved [1427002/1427002]\n",
      "\n",
      "--2024-05-25 14:25:20--  https://d37ci6vzurychx.cloudfront.net/trip-data/green_tripdata_2023-02.parquet\n",
      "Resolving d37ci6vzurychx.cloudfront.net (d37ci6vzurychx.cloudfront.net)... 3.164.247.182, 3.164.247.101, 3.164.247.127, ...\n",
      "Connecting to d37ci6vzurychx.cloudfront.net (d37ci6vzurychx.cloudfront.net)|3.164.247.182|:443... connected.\n",
      "HTTP request sent, awaiting response... 200 OK\n",
      "Length: 1533740 (1.5M) [binary/octet-stream]\n",
      "Saving to: ‘green_tripdata_2023-02.parquet’\n",
      "\n",
      "green_tripdata_2023 100%[===================>]   1.46M  --.-KB/s    in 0.06s   \n",
      "\n",
      "2024-05-25 14:25:20 (26.0 MB/s) - ‘green_tripdata_2023-02.parquet’ saved [1533740/1533740]\n",
      "\n",
      "--2024-05-25 14:25:21--  https://d37ci6vzurychx.cloudfront.net/trip-data/green_tripdata_2023-03.parquet\n",
      "Resolving d37ci6vzurychx.cloudfront.net (d37ci6vzurychx.cloudfront.net)... 3.164.247.127, 3.164.247.101, 3.164.247.182, ...\n",
      "Connecting to d37ci6vzurychx.cloudfront.net (d37ci6vzurychx.cloudfront.net)|3.164.247.127|:443... connected.\n",
      "HTTP request sent, awaiting response... 200 OK\n",
      "Length: 1730999 (1.7M) [binary/octet-stream]\n",
      "Saving to: ‘green_tripdata_2023-03.parquet’\n",
      "\n",
      "green_tripdata_2023 100%[===================>]   1.65M  --.-KB/s    in 0.03s   \n",
      "\n",
      "2024-05-25 14:25:21 (61.3 MB/s) - ‘green_tripdata_2023-03.parquet’ saved [1730999/1730999]\n",
      "\n"
     ]
    }
   ],
   "source": [
    "!wget https://d37ci6vzurychx.cloudfront.net/trip-data/green_tripdata_2023-01.parquet\n",
    "!wget https://d37ci6vzurychx.cloudfront.net/trip-data/green_tripdata_2023-02.parquet\n",
    "!wget https://d37ci6vzurychx.cloudfront.net/trip-data/green_tripdata_2023-03.parquet"
   ]
  },
  {
   "cell_type": "markdown",
   "metadata": {},
   "source": [
    "### Question 1"
   ]
  },
  {
   "cell_type": "code",
   "execution_count": 3,
   "metadata": {},
   "outputs": [
    {
     "name": "stdout",
     "output_type": "stream",
     "text": [
      "mlflow, version 2.13.0\n"
     ]
    }
   ],
   "source": [
    "!mlflow --version"
   ]
  },
  {
   "cell_type": "markdown",
   "metadata": {},
   "source": [
    "### Question 2"
   ]
  },
  {
   "cell_type": "code",
   "execution_count": 8,
   "metadata": {},
   "outputs": [
    {
     "name": "stdout",
     "output_type": "stream",
     "text": [
      "/bin/bash: line 1: cd: ./cohorts/2024/02-experiment-tracking/homework: No such file or directory\n",
      "Traceback (most recent call last):\n",
      "  File \"/home/ubuntu/mlops-zoomcamp/cohorts/2024/02-experiment-tracking/homework/preprocess_data.py\", line 83, in <module>\n",
      "    run_data_prep()\n",
      "  File \"/home/ubuntu/anaconda3/envs/exp-tracking-env/lib/python3.11/site-packages/click/core.py\", line 1157, in __call__\n",
      "    return self.main(*args, **kwargs)\n",
      "           ^^^^^^^^^^^^^^^^^^^^^^^^^^\n",
      "  File \"/home/ubuntu/anaconda3/envs/exp-tracking-env/lib/python3.11/site-packages/click/core.py\", line 1078, in main\n",
      "    rv = self.invoke(ctx)\n",
      "         ^^^^^^^^^^^^^^^^\n",
      "  File \"/home/ubuntu/anaconda3/envs/exp-tracking-env/lib/python3.11/site-packages/click/core.py\", line 1434, in invoke\n",
      "    return ctx.invoke(self.callback, **ctx.params)\n",
      "           ^^^^^^^^^^^^^^^^^^^^^^^^^^^^^^^^^^^^^^^\n",
      "  File \"/home/ubuntu/anaconda3/envs/exp-tracking-env/lib/python3.11/site-packages/click/core.py\", line 783, in invoke\n",
      "    return __callback(*args, **kwargs)\n",
      "           ^^^^^^^^^^^^^^^^^^^^^^^^^^^\n",
      "  File \"/home/ubuntu/mlops-zoomcamp/cohorts/2024/02-experiment-tracking/homework/preprocess_data.py\", line 50, in run_data_prep\n",
      "    df_train = read_dataframe(\n",
      "               ^^^^^^^^^^^^^^^\n",
      "  File \"/home/ubuntu/mlops-zoomcamp/cohorts/2024/02-experiment-tracking/homework/preprocess_data.py\", line 15, in read_dataframe\n",
      "    df = pd.read_parquet(filename)\n",
      "         ^^^^^^^^^^^^^^^^^^^^^^^^^\n",
      "  File \"/home/ubuntu/anaconda3/envs/exp-tracking-env/lib/python3.11/site-packages/pandas/io/parquet.py\", line 667, in read_parquet\n",
      "    return impl.read(\n",
      "           ^^^^^^^^^^\n",
      "  File \"/home/ubuntu/anaconda3/envs/exp-tracking-env/lib/python3.11/site-packages/pandas/io/parquet.py\", line 267, in read\n",
      "    path_or_handle, handles, filesystem = _get_path_or_handle(\n",
      "                                          ^^^^^^^^^^^^^^^^^^^^\n",
      "  File \"/home/ubuntu/anaconda3/envs/exp-tracking-env/lib/python3.11/site-packages/pandas/io/parquet.py\", line 140, in _get_path_or_handle\n",
      "    handles = get_handle(\n",
      "              ^^^^^^^^^^^\n",
      "  File \"/home/ubuntu/anaconda3/envs/exp-tracking-env/lib/python3.11/site-packages/pandas/io/common.py\", line 882, in get_handle\n",
      "    handle = open(handle, ioargs.mode)\n",
      "             ^^^^^^^^^^^^^^^^^^^^^^^^^\n",
      "FileNotFoundError: [Errno 2] No such file or directory: '/home/ubuntu/mlops-zoomcamp/cohorts/2024/02-experiment-tracking/homework/data/green_tripdata_2023-01.parquet'\n"
     ]
    }
   ],
   "source": [
    "!python preprocess_data.py --raw_data_path ~/mlops-zoomcamp/cohorts/2024/02-experiment-tracking/homework/data --dest_path ./output"
   ]
  }
 ],
 "metadata": {
  "kernelspec": {
   "display_name": "exp-tracking-env",
   "language": "python",
   "name": "python3"
  },
  "language_info": {
   "codemirror_mode": {
    "name": "ipython",
    "version": 3
   },
   "file_extension": ".py",
   "mimetype": "text/x-python",
   "name": "python",
   "nbconvert_exporter": "python",
   "pygments_lexer": "ipython3",
   "version": "3.11.9"
  }
 },
 "nbformat": 4,
 "nbformat_minor": 2
}
